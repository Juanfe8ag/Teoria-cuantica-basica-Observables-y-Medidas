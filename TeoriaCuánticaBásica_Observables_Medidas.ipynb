{
 "cells": [
  {
   "cell_type": "markdown",
   "metadata": {},
   "source": [
    "## Ejercicios Capitulo 4\n",
    "\n",
    "### Simule el primer sistema cuántico descrito en la sección 4.1.\n",
    "\n",
    "El sistema consiste en una partícula confinada a un conjunto discreto de posiciones en una línea. El simulador debe permitir especificar el número de posiciones y un vector ket de estado asignando las amplitudes.\n",
    "\n",
    "1. El sistema debe calcular la probabilidad de encontrarlo en una posición en particular.\n"
   ]
  },
  {
   "cell_type": "code",
   "execution_count": 15,
   "metadata": {},
   "outputs": [
    {
     "name": "stdout",
     "output_type": "stream",
     "text": [
      "0.6973684210526314\n"
     ]
    }
   ],
   "source": [
    "import numpy as np\n",
    "\n",
    "def prob_pos(ket,position):\n",
    "    return (np.linalg.norm(ket[position])**2)/(np.linalg.norm(ket)**2)\n",
    "\n",
    "ket =  np.array([[complex(7,-2)], [complex(1,-2)], [complex(0,1)], [complex(4,1)]])\n",
    "probability = prob_pos(ket,0)\n",
    "\n",
    "print(probability)"
   ]
  },
  {
   "cell_type": "markdown",
   "metadata": {},
   "source": [
    "2. El sistema si se le da otro vector Ket debe buscar la probabilidad de transitar del primer vector al segundo."
   ]
  },
  {
   "cell_type": "code",
   "execution_count": 27,
   "metadata": {},
   "outputs": [
    {
     "name": "stdout",
     "output_type": "stream",
     "text": [
      "La probabilidad de transitar es de: [4.]\n"
     ]
    }
   ],
   "source": [
    "import numpy as np\n",
    "\n",
    "def bra(ket):\n",
    "    for num in ket:\n",
    "        if isinstance(num, list):\n",
    "            num[1] *= -1\n",
    "        else:\n",
    "            num *= -1\n",
    "    return ket\n",
    "\n",
    "def transition(ket1, ket2):\n",
    "    braket = bra((ket2).T)\n",
    "    prob = np.dot(braket, (ket1).T[0])\n",
    "    ans = np.abs(prob) ** 2\n",
    "    return ans\n",
    "\n",
    "ket1 = np.array([[0-1j], [1+0j]])\n",
    "ket2 = np.array([[1+0j], [0-1j]])\n",
    "transition1_2 = transition(ket1, ket2)\n",
    "print(\"La probabilidad de transitar es de:\", transition1_2)\n"
   ]
  }
 ],
 "metadata": {
  "kernelspec": {
   "display_name": "Python 3",
   "language": "python",
   "name": "python3"
  },
  "language_info": {
   "codemirror_mode": {
    "name": "ipython",
    "version": 3
   },
   "file_extension": ".py",
   "mimetype": "text/x-python",
   "name": "python",
   "nbconvert_exporter": "python",
   "pygments_lexer": "ipython3",
   "version": "3.12.3"
  }
 },
 "nbformat": 4,
 "nbformat_minor": 2
}
