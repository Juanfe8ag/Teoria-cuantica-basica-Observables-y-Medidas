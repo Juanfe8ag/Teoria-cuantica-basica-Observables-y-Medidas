{
 "cells": [
  {
   "cell_type": "markdown",
   "metadata": {},
   "source": [
    "## Ejercicios Capitulo 4\n",
    "\n",
    "### Simule el primer sistema cuántico descrito en la sección 4.1.\n",
    "\n",
    "El sistema consiste en una partícula confinada a un conjunto discreto de posiciones en una línea. El simulador debe permitir especificar el número de posiciones y un vector ket de estado asignando las amplitudes.\n",
    "\n",
    "1. El sistema debe calcular la probabilidad de encontrarlo en una posición en particular.\n"
   ]
  },
  {
   "cell_type": "code",
   "execution_count": 1,
   "metadata": {},
   "outputs": [
    {
     "name": "stdout",
     "output_type": "stream",
     "text": [
      "69.73684210526314 %\n"
     ]
    }
   ],
   "source": [
    "import numpy as np\n",
    "\n",
    "def prob_pos(ket,position):\n",
    "    return (np.linalg.norm(ket[position])**2)/(np.linalg.norm(ket)**2)\n",
    "\n",
    "ket =  np.array([[complex(7,-2)], [complex(1,-2)], [complex(0,1)], [complex(4,1)]])\n",
    "probability = prob_pos(ket,0)\n",
    "\n",
    "print(probability * 100,\"%\")"
   ]
  },
  {
   "cell_type": "markdown",
   "metadata": {},
   "source": [
    "2. El sistema si se le da otro vector Ket debe buscar la probabilidad de transitar del primer vector al segundo."
   ]
  },
  {
   "cell_type": "code",
   "execution_count": 46,
   "metadata": {},
   "outputs": [
    {
     "name": "stdout",
     "output_type": "stream",
     "text": [
      "La probabilidad de transición es de: 0.17094017094017105\n"
     ]
    }
   ],
   "source": [
    "import numpy as np\n",
    "\n",
    "def bra(ket):\n",
    "    norm = np.linalg.norm(ket)\n",
    "    bra = ket/norm\n",
    "    return bra.T.conj()\n",
    "\n",
    "def transition(ket1, ket2):\n",
    "    braket = np.dot(bra(ket2),(ket1/np.linalg.norm(ket1)))\n",
    "    prob = np.abs(braket[0,0]) ** 2\n",
    "    return prob\n",
    "\n",
    "ket1 = np.array([[0+1j], [4-3j]])\n",
    "ket2 = np.array([[3-2j], [1+2j]])\n",
    "transition1_2 = transition(ket1, ket2)\n",
    "print(\"La probabilidad de transición es de:\", transition1_2)\n"
   ]
  }
 ],
 "metadata": {
  "kernelspec": {
   "display_name": "Python 3",
   "language": "python",
   "name": "python3"
  },
  "language_info": {
   "codemirror_mode": {
    "name": "ipython",
    "version": 3
   },
   "file_extension": ".py",
   "mimetype": "text/x-python",
   "name": "python",
   "nbconvert_exporter": "python",
   "pygments_lexer": "ipython3",
   "version": "3.12.3"
  }
 },
 "nbformat": 4,
 "nbformat_minor": 2
}
